{
 "cells": [
  {
   "cell_type": "markdown",
   "metadata": {},
   "source": [
    "# welcome to celldb!"
   ]
  },
  {
   "cell_type": "markdown",
   "metadata": {},
   "source": [
    "Functional genomics data is often very sparse, difficult to normalize ahead of time, and sometimes very large.\n",
    "\n",
    "celldb is here to help make that easier by offering an extensible data model over industry standard technologies. Namely, the Phoenix SQL adapter let's us write SQL to HBase, which means bioinformaticians can easily write map-reduce jobs!\n",
    "\n",
    "So we'll start by running a docker instance that is pre-loaded with a Phoenix-Hbase stack compatible with celldb."
   ]
  },
  {
   "cell_type": "markdown",
   "metadata": {},
   "source": [
    "Run this command in a separate terminal:\n",
    "\n",
    "```sudo docker run -p 8765:8765 -it david4096/docker-phoenix```."
   ]
  },
  {
   "cell_type": "markdown",
   "metadata": {},
   "source": [
    "## Initializing tables"
   ]
  },
  {
   "cell_type": "markdown",
   "metadata": {},
   "source": [
    "The first time celldb starts we initialize the databases used for storing our functional genomics data, which are organized into samples and features. This only needs to be done once."
   ]
  },
  {
   "cell_type": "code",
   "execution_count": 10,
   "metadata": {
    "collapsed": false
   },
   "outputs": [
    {
     "name": "stdout",
     "output_type": "stream",
     "text": [
      "(u'Table already exists. tableName=EXPRESSIONS', 1013, u'42M04', None)\n",
      "(u'Table already exists. tableName=FEATURES', 1013, u'42M04', None)\n"
     ]
    },
    {
     "data": {
      "text/plain": [
       "<phoenixdb.cursor.Cursor at 0x7f4ab822c110>"
      ]
     },
     "execution_count": 10,
     "metadata": {},
     "output_type": "execute_result"
    }
   ],
   "source": [
    "import celldb\n",
    "connection = celldb.connect(\"http://localhost:8765\")\n",
    "celldb.initialize(connection)"
   ]
  },
  {
   "cell_type": "markdown",
   "metadata": {},
   "source": [
    "Note that we were returned a cursor. We'll return to cursors in a second. But if you still have the terminal available for the docker-phoenix container you should see messages something like this:"
   ]
  },
  {
   "cell_type": "markdown",
   "metadata": {},
   "source": [
    "```\n",
    "17/06/30 20:49:11 INFO client.HBaseAdmin: Created SYSTEM.MUTEX\n",
    "17/06/30 20:49:11 INFO metrics.Metrics: Initializing metrics system: phoenix\n",
    "17/06/30 20:49:12 INFO impl.MetricsConfig: loaded properties from hadoop-metrics2.properties\n",
    "17/06/30 20:49:12 INFO impl.MetricsSystemImpl: Scheduled snapshot period at 10 second(s).\n",
    "17/06/30 20:49:12 INFO impl.MetricsSystemImpl: phoenix metrics system started\n",
    "17/06/30 20:49:16 INFO client.HBaseAdmin: Created SYSTEM.CATALOG\n",
    "17/06/30 20:49:24 INFO client.HBaseAdmin: Created SYSTEM.SEQUENCE\n",
    "17/06/30 20:49:25 INFO client.HBaseAdmin: Created SYSTEM.STATS\n",
    "17/06/30 20:49:27 INFO client.HBaseAdmin: Created SYSTEM.FUNCTION\n",
    "17/06/30 20:49:28 INFO client.HBaseAdmin: Created EXPRESSIONS\n",
    "17/06/30 20:49:29 INFO client.HBaseAdmin: Created FEATURES\n",
    "```"
   ]
  },
  {
   "cell_type": "markdown",
   "metadata": {},
   "source": [
    "This activity log shows we've created tables the celldb needs to represent functional genomics data."
   ]
  },
  {
   "cell_type": "markdown",
   "metadata": {},
   "source": [
    "## Cursors"
   ]
  },
  {
   "cell_type": "markdown",
   "metadata": {},
   "source": [
    "The celldb python client is DB2.0 compliant, which means you can easily integrate it into your existing python application.\n",
    "\n",
    "To interact with the database, the programmer uses a cursor which can execute queries and coalesce results."
   ]
  },
  {
   "cell_type": "markdown",
   "metadata": {},
   "source": [
    "For example, to list the (empty) `Expressions` table we might write:"
   ]
  },
  {
   "cell_type": "code",
   "execution_count": 3,
   "metadata": {
    "collapsed": false
   },
   "outputs": [
    {
     "data": {
      "text/plain": [
       "[]"
      ]
     },
     "execution_count": 3,
     "metadata": {},
     "output_type": "execute_result"
    }
   ],
   "source": [
    "cursor = connection.cursor()\n",
    "cursor.execute(\"SELECT * from Expressions\")\n",
    "cursor.fetchall()"
   ]
  },
  {
   "cell_type": "markdown",
   "metadata": {},
   "source": [
    "The celldb client offers a number of convenience functions so that one can interact with the data without having to write SQL."
   ]
  },
  {
   "cell_type": "markdown",
   "metadata": {},
   "source": [
    "## Upserting samples"
   ]
  },
  {
   "cell_type": "markdown",
   "metadata": {},
   "source": [
    "RNA expression quantifications tell us, for a given sample, just how much a given gene was expressed. We will design a simple sample here, called `sample_A` and we will quantify two genes, `gene_1` and `gene_2` with values `0.5` and `1.0` respectively.\n",
    "\n",
    "Upserting simply means we are either inserting or updating, and since samples and identified uniquely by their sampleId, a single value can be updated without inserting a new column or updated the entire row."
   ]
  },
  {
   "cell_type": "code",
   "execution_count": 4,
   "metadata": {
    "collapsed": false
   },
   "outputs": [],
   "source": [
    "sampleId = \"sample_A\"\n",
    "features = [\"gene_1\", \"gene_2\"]\n",
    "values = [0.5, 1.0]\n",
    "cursor = celldb.upsert_sample(cursor, sampleId, features, values)"
   ]
  },
  {
   "cell_type": "markdown",
   "metadata": {},
   "source": [
    "## Listing samples"
   ]
  },
  {
   "cell_type": "markdown",
   "metadata": {},
   "source": [
    "A convenience method is offered for collecting the list of sampleIds."
   ]
  },
  {
   "cell_type": "code",
   "execution_count": 5,
   "metadata": {
    "collapsed": false
   },
   "outputs": [
    {
     "name": "stdout",
     "output_type": "stream",
     "text": [
      "[u'sample_A']\n"
     ]
    }
   ],
   "source": [
    "samples = celldb.list_samples(cursor)\n",
    "print(samples)"
   ]
  },
  {
   "cell_type": "markdown",
   "metadata": {},
   "source": [
    "## Listing features"
   ]
  },
  {
   "cell_type": "markdown",
   "metadata": {},
   "source": [
    "We can also discover the features that have been quantified:"
   ]
  },
  {
   "cell_type": "code",
   "execution_count": 11,
   "metadata": {
    "collapsed": false
   },
   "outputs": [
    {
     "name": "stdout",
     "output_type": "stream",
     "text": [
      "[u'gene_1', u'gene_2']\n"
     ]
    }
   ],
   "source": [
    "features = celldb.list_features(cursor)\n",
    "print(features)"
   ]
  },
  {
   "cell_type": "markdown",
   "metadata": {},
   "source": [
    "## Retrieving a matrix"
   ]
  },
  {
   "cell_type": "markdown",
   "metadata": {},
   "source": [
    "RNA expression analysis centers on gene-cell matrices, and so a function is provided which simplifies gathering these data."
   ]
  },
  {
   "cell_type": "code",
   "execution_count": 7,
   "metadata": {
    "collapsed": false
   },
   "outputs": [
    {
     "ename": "AttributeError",
     "evalue": "'module' object has no attribute 'matrix'",
     "output_type": "error",
     "traceback": [
      "\u001b[0;31m---------------------------------------------------------------------------\u001b[0m",
      "\u001b[0;31mAttributeError\u001b[0m                            Traceback (most recent call last)",
      "\u001b[0;32m<ipython-input-7-ae94352438a1>\u001b[0m in \u001b[0;36m<module>\u001b[0;34m()\u001b[0m\n\u001b[0;32m----> 1\u001b[0;31m \u001b[0mcelldb\u001b[0m\u001b[0;34m.\u001b[0m\u001b[0mmatrix\u001b[0m\u001b[0;34m(\u001b[0m\u001b[0msamples\u001b[0m\u001b[0;34m,\u001b[0m \u001b[0mfeatures\u001b[0m\u001b[0;34m)\u001b[0m\u001b[0;34m\u001b[0m\u001b[0m\n\u001b[0m",
      "\u001b[0;31mAttributeError\u001b[0m: 'module' object has no attribute 'matrix'"
     ]
    }
   ],
   "source": [
    "celldb.m"
   ]
  },
  {
   "cell_type": "code",
   "execution_count": null,
   "metadata": {
    "collapsed": true
   },
   "outputs": [],
   "source": []
  }
 ],
 "metadata": {
  "kernelspec": {
   "display_name": "Python 2",
   "language": "python",
   "name": "python2"
  },
  "language_info": {
   "codemirror_mode": {
    "name": "ipython",
    "version": 2
   },
   "file_extension": ".py",
   "mimetype": "text/x-python",
   "name": "python",
   "nbconvert_exporter": "python",
   "pygments_lexer": "ipython2",
   "version": "2.7.12+"
  }
 },
 "nbformat": 4,
 "nbformat_minor": 2
}
